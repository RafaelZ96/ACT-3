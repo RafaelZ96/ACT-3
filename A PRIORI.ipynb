{
 "cells": [
  {
   "cell_type": "code",
   "execution_count": 2,
   "id": "00e3a8ca",
   "metadata": {},
   "outputs": [
    {
     "ename": "ModuleNotFoundError",
     "evalue": "No module named 'mlxtend'",
     "output_type": "error",
     "traceback": [
      "\u001b[1;31m---------------------------------------------------------------------------\u001b[0m",
      "\u001b[1;31mModuleNotFoundError\u001b[0m                       Traceback (most recent call last)",
      "Input \u001b[1;32mIn [2]\u001b[0m, in \u001b[0;36m<cell line: 2>\u001b[1;34m()\u001b[0m\n\u001b[0;32m      1\u001b[0m \u001b[38;5;28;01mimport\u001b[39;00m \u001b[38;5;21;01mpandas\u001b[39;00m \u001b[38;5;28;01mas\u001b[39;00m \u001b[38;5;21;01mpd\u001b[39;00m\n\u001b[1;32m----> 2\u001b[0m \u001b[38;5;28;01mfrom\u001b[39;00m \u001b[38;5;21;01mmlxtend\u001b[39;00m\u001b[38;5;21;01m.\u001b[39;00m\u001b[38;5;21;01mfrequent_patterns\u001b[39;00m \u001b[38;5;28;01mimport\u001b[39;00m apriori\n\u001b[0;32m      3\u001b[0m \u001b[38;5;28;01mfrom\u001b[39;00m \u001b[38;5;21;01mmlxtend\u001b[39;00m\u001b[38;5;21;01m.\u001b[39;00m\u001b[38;5;21;01mfrequent_patterns\u001b[39;00m \u001b[38;5;28;01mimport\u001b[39;00m association_rules\n\u001b[0;32m      4\u001b[0m df1\u001b[38;5;241m=\u001b[39m pd\u001b[38;5;241m.\u001b[39mread_csv(\u001b[38;5;124m'\u001b[39m\u001b[38;5;124mBX-Books.csv\u001b[39m\u001b[38;5;124m'\u001b[39m)\n",
      "\u001b[1;31mModuleNotFoundError\u001b[0m: No module named 'mlxtend'"
     ]
    }
   ],
   "source": [
    "import pandas as pd\n",
    "from mlxtend.frequent_patterns import apriori\n",
    "from mlxtend.frequent_patterns import association_rules\n",
    "df1= pd.read_csv('BX-Books.csv')\n",
    "df2= pd.read_csv('BX-Users.csv')\n",
    "df3= pd.read_csv('BX-Book-Ratings.csv')\n",
    "df=pd.merge(df3, df1, on='isbn')\n",
    "df\n",
    "df['book_title']= df['book_title'].str.strip()\n",
    "df.dropna(axis=0, subset=['user_id'], inplace=True)\n",
    "# 1st line : remove any space from book_title\n",
    "# 2nd line: if there is any “na “ drop it\n",
    "\n",
    "df\n",
    "df.groupby(['user_id', 'book_title'])['rating'].size()\n",
    "df[df['rating']>9]\n",
    "basket= (df[df['rating']>9]\n",
    "        .groupby(['user_id', 'book_title'])['rating']\n",
    "        .size().unstack().reset_index().fillna(0)\n",
    "        .set_index('user_id'))\n",
    "basket\n",
    "def encode_units(x):\n",
    "    if x<=0:\n",
    "        return 0\n",
    "    if x>=1:\n",
    "        return 1\n",
    "basket_sets= basket.applymap(encode_units)\n",
    "frequent_itemsets= apriori(basket_sets, min_support=0.02, use_colnames= True)\n",
    "frequent_itemsets= apriori(basket_sets, min_support=0.02, use_colnames= True)\n",
    "rules= association_rules(frequent_itemsets, metric=\"lift\", min_threshold=0.1)\n",
    "rules.head()\n",
    "rules[(rules['lift']>=6)&(rules['confidence']>=0.8)]\n",
    "   "
   ]
  },
  {
   "cell_type": "code",
   "execution_count": null,
   "id": "fb4e5e05",
   "metadata": {},
   "outputs": [],
   "source": [
    "https://github.com/JinK1023/Association-Analysis/blob/master/A%20Priori%20-.ipynb"
   ]
  }
 ],
 "metadata": {
  "kernelspec": {
   "display_name": "Python 3 (ipykernel)",
   "language": "python",
   "name": "python3"
  },
  "language_info": {
   "codemirror_mode": {
    "name": "ipython",
    "version": 3
   },
   "file_extension": ".py",
   "mimetype": "text/x-python",
   "name": "python",
   "nbconvert_exporter": "python",
   "pygments_lexer": "ipython3",
   "version": "3.9.12"
  }
 },
 "nbformat": 4,
 "nbformat_minor": 5
}
